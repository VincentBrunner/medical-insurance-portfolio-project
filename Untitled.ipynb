{
 "cells": [
  {
   "cell_type": "markdown",
   "id": "0272ac42",
   "metadata": {},
   "source": [
    "# Medical insurance Portfolio project\n",
    "## dataset exploration/overview:"
   ]
  },
  {
   "cell_type": "code",
   "execution_count": 21,
   "id": "91590d06",
   "metadata": {},
   "outputs": [],
   "source": [
    "import pandas as pd\n",
    "import numpy as np\n",
    "import matplotlib.pyplot as plt\n",
    "import seaborn as sns\n",
    "sns.set()"
   ]
  },
  {
   "cell_type": "code",
   "execution_count": 74,
   "id": "af90aa88",
   "metadata": {},
   "outputs": [],
   "source": [
    "insurance_df = pd.read_csv(\"insurance.csv\")"
   ]
  },
  {
   "cell_type": "code",
   "execution_count": 4,
   "id": "d971aa3c",
   "metadata": {},
   "outputs": [
    {
     "name": "stdout",
     "output_type": "stream",
     "text": [
      "   age     sex     bmi  children smoker     region      charges\n",
      "0   19  female  27.900         0    yes  southwest  16884.92400\n",
      "1   18    male  33.770         1     no  southeast   1725.55230\n",
      "2   28    male  33.000         3     no  southeast   4449.46200\n",
      "3   33    male  22.705         0     no  northwest  21984.47061\n",
      "4   32    male  28.880         0     no  northwest   3866.85520\n"
     ]
    }
   ],
   "source": [
    "print(insurance_df.head())"
   ]
  },
  {
   "cell_type": "code",
   "execution_count": 5,
   "id": "cc2a0a81",
   "metadata": {},
   "outputs": [
    {
     "name": "stdout",
     "output_type": "stream",
     "text": [
      "               age          bmi     children       charges\n",
      "count  1338.000000  1338.000000  1338.000000   1338.000000\n",
      "mean     39.207025    30.663397     1.094918  13270.422265\n",
      "std      14.049960     6.098187     1.205493  12110.011237\n",
      "min      18.000000    15.960000     0.000000   1121.873900\n",
      "25%      27.000000    26.296250     0.000000   4740.287150\n",
      "50%      39.000000    30.400000     1.000000   9382.033000\n",
      "75%      51.000000    34.693750     2.000000  16639.912515\n",
      "max      64.000000    53.130000     5.000000  63770.428010\n"
     ]
    }
   ],
   "source": [
    "print(insurance_df.describe())"
   ]
  },
  {
   "cell_type": "markdown",
   "id": "5f203cb8",
   "metadata": {},
   "source": [
    "age starts at 18 -> adults, stops at 64 -> potentialy working adults\n",
    "mean bmi is above healthy range -> similar to what other studys found(also out of heathy range)"
   ]
  },
  {
   "cell_type": "markdown",
   "id": "b1d4a3e6",
   "metadata": {},
   "source": [
    "## analysing single features checking if data is representative "
   ]
  },
  {
   "cell_type": "markdown",
   "id": "9d04f221",
   "metadata": {},
   "source": [
    "### statistic functions:"
   ]
  },
  {
   "cell_type": "code",
   "execution_count": 105,
   "id": "84fbab91",
   "metadata": {},
   "outputs": [],
   "source": [
    "def mean_std(collumn_name, dataframe):\n",
    "    sns.displot(dataframe[collumn_name])\n",
    "    mean = dataframe[collumn_name].mean()\n",
    "    std = dataframe[collumn_name].std()\n",
    "    print(f\"The mean {collumn_name} is {mean} and the standart deviation is {std}\")\n",
    "    \n",
    "percentage = lambda number, total: (number/total)*100"
   ]
  },
  {
   "cell_type": "markdown",
   "id": "a28b35c7",
   "metadata": {},
   "source": [
    "### age:"
   ]
  },
  {
   "cell_type": "code",
   "execution_count": 102,
   "id": "705645b0",
   "metadata": {},
   "outputs": [
    {
     "name": "stdout",
     "output_type": "stream",
     "text": [
      "The mean age is 39.20702541106129 and the standart deviation is 14.049960379216172\n"
     ]
    },
    {
     "data": {
      "image/png": "[encoded data removed]",
      "text/plain": [
       "<Figure size 360x360 with 1 Axes>"
      ]
     },
     "metadata": {},
     "output_type": "display_data"
    }
   ],
   "source": [
    "mean_std(\"age\", insurance_df)"
   ]
  },
  {
   "cell_type": "markdown",
   "id": "eb98ed8b",
   "metadata": {},
   "source": [
    "#### interpretation:"
   ]
  },
  {
   "cell_type": "markdown",
   "id": "b569982d",
   "metadata": {},
   "source": [
    "* mean age fits to the number other studies found for the mean working-age in the Us, \n",
    "* standart deviation is high -> representative of diffrent age groups\n",
    "* spike at 20 "
   ]
  },
  {
   "cell_type": "markdown",
   "id": "8532f9d8",
   "metadata": {},
   "source": [
    "### sex:"
   ]
  },
  {
   "cell_type": "code",
   "execution_count": 135,
   "id": "9a27fc88",
   "metadata": {},
   "outputs": [],
   "source": [
    "sex_count = insurance_df[\"sex\"].value_counts()"
   ]
  },
  {
   "cell_type": "code",
   "execution_count": 136,
   "id": "84f57a8a",
   "metadata": {},
   "outputs": [
    {
     "name": "stdout",
     "output_type": "stream",
     "text": [
      "50.56095736724009 percent are male, 49.51383694839192 percent female\n"
     ]
    }
   ],
   "source": [
    "sex_percentage_dict = sex_count.map(lambda x: percentage(x, 1337)).to_dict()\n",
    "print(\"{} percent are male, {} percent female\".format(sex_percentage_dict[\"male\"], sex_percentage_dict[\"female\"]))"
   ]
  },
  {
   "cell_type": "code",
   "execution_count": 137,
   "id": "00b615f8",
   "metadata": {},
   "outputs": [
    {
     "data": {
      "text/plain": [
       "<function matplotlib.pyplot.show(close=None, block=None)>"
      ]
     },
     "execution_count": 137,
     "metadata": {},
     "output_type": "execute_result"
    },
    {
     "data": {
      "image/png": "[encoded data removed]",
      "text/plain": [
       "<Figure size 432x288 with 1 Axes>"
      ]
     },
     "metadata": {},
     "output_type": "display_data"
    }
   ],
   "source": [
    "plt.pie(sex_percentage_dict.values(), labels=sex_percentage_dict.keys(),autopct='%1.1f%%', startangle=90)\n",
    "plt.show"
   ]
  },
  {
   "cell_type": "markdown",
   "id": "4b7ed613",
   "metadata": {},
   "source": [
    "#### Interpretation:"
   ]
  },
  {
   "cell_type": "markdown",
   "id": "f6a3a9a3",
   "metadata": {},
   "source": [
    "1. evenly spread\n",
    "2. represenative of both sexes"
   ]
  },
  {
   "cell_type": "markdown",
   "id": "ab9d69d8",
   "metadata": {},
   "source": [
    "### BMI:"
   ]
  },
  {
   "cell_type": "code",
   "execution_count": 103,
   "id": "7fc80a7a",
   "metadata": {},
   "outputs": [
    {
     "name": "stdout",
     "output_type": "stream",
     "text": [
      "The mean bmi is 30.663396860986538 and the standart deviation is 6.098186911679017\n"
     ]
    },
    {
     "data": {
      "image/png": "[encoded data removed]",
      "text/plain": [
       "<Figure size 360x360 with 1 Axes>"
      ]
     },
     "metadata": {},
     "output_type": "display_data"
    }
   ],
   "source": [
    "mean_std(\"bmi\", insurance_df)"
   ]
  },
  {
   "cell_type": "markdown",
   "id": "c51facf8",
   "metadata": {},
   "source": [
    "#### Interpretation:"
   ]
  },
  {
   "cell_type": "markdown",
   "id": "1d860c6b",
   "metadata": {},
   "source": [
    "1. mean bmi is in the overweight range\n",
    "2. standart deviation is high due to extremes above 50 bmi and under 20\n",
    "3. --> representative of a broad range of body types"
   ]
  },
  {
   "cell_type": "markdown",
   "id": "d240882d",
   "metadata": {},
   "source": [
    "### Children:"
   ]
  },
  {
   "cell_type": "code",
   "execution_count": 104,
   "id": "b969d1c3",
   "metadata": {},
   "outputs": [
    {
     "name": "stdout",
     "output_type": "stream",
     "text": [
      "The mean children is 1.0949177877429 and the standart deviation is 1.2054927397819095\n"
     ]
    },
    {
     "data": {
      "image/png": "[encoded data removed]",
      "text/plain": [
       "<Figure size 360x360 with 1 Axes>"
      ]
     },
     "metadata": {},
     "output_type": "display_data"
    }
   ],
   "source": [
    "mean_std(\"children\", insurance_df)"
   ]
  },
  {
   "cell_type": "markdown",
   "id": "a624bed3",
   "metadata": {},
   "source": [
    "#### No child vs. one or more children:"
   ]
  },
  {
   "cell_type": "code",
   "execution_count": 132,
   "id": "9b3fecc0",
   "metadata": {},
   "outputs": [],
   "source": [
    "insurance_df[\"child_no_child\"] = insurance_df[\"children\"].map(lambda x: \"no child\" if x == 0 else \"one or more children\")"
   ]
  },
  {
   "cell_type": "code",
   "execution_count": 133,
   "id": "ad60a562",
   "metadata": {},
   "outputs": [
    {
     "name": "stdout",
     "output_type": "stream",
     "text": [
      "42.93193717277487 percent have no child, 57.14285714285714 percent have one or more children\n"
     ]
    }
   ],
   "source": [
    "children_count = insurance_df[\"child_no_child\"].value_counts()\n",
    "children_percentage_dict = children_count.map(lambda x: percentage(x, 1337)).to_dict()\n",
    "print(\"{} percent have no child, {} percent have one or more children\".format(children_percentage_dict[\"no child\"], children_percentage_dict[\"one or more children\"]))"
   ]
  },
  {
   "cell_type": "code",
   "execution_count": 134,
   "id": "6a114bc0",
   "metadata": {},
   "outputs": [
    {
     "data": {
      "text/plain": [
       "<function matplotlib.pyplot.show(close=None, block=None)>"
      ]
     },
     "execution_count": 134,
     "metadata": {},
     "output_type": "execute_result"
    },
    {
     "data": {
      "image/png": "[encoded data removed]",
      "text/plain": [
       "<Figure size 432x288 with 1 Axes>"
      ]
     },
     "metadata": {},
     "output_type": "display_data"
    }
   ],
   "source": [
    "plt.pie(children_percentage_dict.values(), labels=children_percentage_dict.keys(),autopct='%1.1f%%', startangle=90)\n",
    "plt.show"
   ]
  },
  {
   "cell_type": "markdown",
   "id": "0e379c4d",
   "metadata": {},
   "source": [
    "### Region: "
   ]
  },
  {
   "cell_type": "code",
   "execution_count": 125,
   "id": "cf9599ba",
   "metadata": {},
   "outputs": [
    {
     "name": "stdout",
     "output_type": "stream",
     "text": [
      "27.225130890052355 percent come from southeast, 24.30815258040389 percent from northwest, 24.30815258040389 percent from southwest and 24.23335826477188 percent from northeast\n"
     ]
    }
   ],
   "source": [
    "region_count = insurance_df[\"region\"].value_counts()\n",
    "region_percent_dict = region_count.map(lambda x: percentage(x, 1337)).to_dict()\n",
    "print(\"{} percent come from southeast, {} percent from northwest, {} percent from southwest and {} percent from northeast\".format(region_percent_dict[\"southeast\"], region_percent_dict[\"northwest\"], region_percent_dict[\"southwest\"], region_percent_dict[\"northeast\"]))"
   ]
  },
  {
   "cell_type": "code",
   "execution_count": 123,
   "id": "7c403e23",
   "metadata": {},
   "outputs": [
    {
     "data": {
      "text/plain": [
       "<function matplotlib.pyplot.show(close=None, block=None)>"
      ]
     },
     "execution_count": 123,
     "metadata": {},
     "output_type": "execute_result"
    },
    {
     "data": {
      "image/png": "[encoded data removed]",
      "text/plain": [
       "<Figure size 432x288 with 1 Axes>"
      ]
     },
     "metadata": {},
     "output_type": "display_data"
    }
   ],
   "source": [
    "plt.pie(region_percent_dict.values(), labels=region_percent_dict.keys(),autopct='%1.1f%%', startangle=90)\n",
    "plt.show"
   ]
  },
  {
   "cell_type": "markdown",
   "id": "10cc9f65",
   "metadata": {},
   "source": [
    "#### Interpretation:"
   ]
  },
  {
   "cell_type": "markdown",
   "id": "83cc53ee",
   "metadata": {},
   "source": [
    "1. regions are evenly spread "
   ]
  },
  {
   "cell_type": "markdown",
   "id": "da08c8a6",
   "metadata": {},
   "source": [
    "\n",
    "## Correlations\n",
    "We want to check for corrrelations between the amount of children and the region with regards to the medical insurance cost"
   ]
  },
  {
   "cell_type": "code",
   "execution_count": null,
   "id": "485f7068",
   "metadata": {},
   "outputs": [],
   "source": []
  }
 ],
 "metadata": {
  "kernelspec": {
   "display_name": "Python 3 (ipykernel)",
   "language": "python",
   "name": "python3"
  },
  "language_info": {
   "codemirror_mode": {
    "name": "ipython",
    "version": 3
   },
   "file_extension": ".py",
   "mimetype": "text/x-python",
   "name": "python",
   "nbconvert_exporter": "python",
   "pygments_lexer": "ipython3",
   "version": "3.9.7"
  }
 },
 "nbformat": 4,
 "nbformat_minor": 5
}
